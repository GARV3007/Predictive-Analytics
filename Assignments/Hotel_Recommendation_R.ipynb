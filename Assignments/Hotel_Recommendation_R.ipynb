{
 "cells": [
  {
   "cell_type": "markdown",
   "metadata": {},
   "source": [
    "### Assignment 7.3 : Hotel Recommendations - Part-1(R)\n",
    "### Author : Gourav Verma\n",
    "### DSC630 : Fall-2020"
   ]
  },
  {
   "cell_type": "code",
   "execution_count": 1,
   "metadata": {},
   "outputs": [
    {
     "name": "stderr",
     "output_type": "stream",
     "text": [
      "\n",
      "Attaching package: 'dplyr'\n",
      "\n",
      "The following objects are masked from 'package:stats':\n",
      "\n",
      "    filter, lag\n",
      "\n",
      "The following objects are masked from 'package:base':\n",
      "\n",
      "    intersect, setdiff, setequal, union\n",
      "\n"
     ]
    }
   ],
   "source": [
    "# Import libraries\n",
    "suppressWarnings(library(ggplot2))\n",
    "suppressWarnings(library(dplyr))\n",
    "suppressWarnings(library(tidyr))"
   ]
  },
  {
   "cell_type": "code",
   "execution_count": 15,
   "metadata": {},
   "outputs": [],
   "source": [
    "# Import Data\n",
    "train <- read.csv('subset_train.csv')\n",
    "destinations <- read.csv('destinations.csv')"
   ]
  },
  {
   "cell_type": "code",
   "execution_count": 16,
   "metadata": {},
   "outputs": [
    {
     "data": {
      "text/html": [
       "<style>\n",
       ".dl-inline {width: auto; margin:0; padding: 0}\n",
       ".dl-inline>dt, .dl-inline>dd {float: none; width: auto; display: inline-block}\n",
       ".dl-inline>dt::after {content: \":\\0020\"; padding-right: .5ex}\n",
       ".dl-inline>dt:not(:first-of-type) {padding-left: .5ex}\n",
       "</style><dl class=dl-inline><dt>date_time</dt><dd>FALSE</dd><dt>site_name</dt><dd>FALSE</dd><dt>posa_continent</dt><dd>FALSE</dd><dt>user_location_country</dt><dd>FALSE</dd><dt>user_location_region</dt><dd>FALSE</dd><dt>user_location_city</dt><dd>FALSE</dd><dt>orig_destination_distance</dt><dd>FALSE</dd><dt>user_id</dt><dd>FALSE</dd><dt>is_mobile</dt><dd>FALSE</dd><dt>is_package</dt><dd>FALSE</dd><dt>channel</dt><dd>FALSE</dd><dt>srch_ci</dt><dd>FALSE</dd><dt>srch_co</dt><dd>FALSE</dd><dt>srch_adults_cnt</dt><dd>FALSE</dd><dt>srch_children_cnt</dt><dd>FALSE</dd><dt>srch_rm_cnt</dt><dd>FALSE</dd><dt>srch_destination_id</dt><dd>FALSE</dd><dt>srch_destination_type_id</dt><dd>FALSE</dd><dt>is_booking</dt><dd>FALSE</dd><dt>cnt</dt><dd>FALSE</dd><dt>hotel_continent</dt><dd>FALSE</dd><dt>hotel_country</dt><dd>FALSE</dd><dt>hotel_market</dt><dd>FALSE</dd><dt>hotel_cluster</dt><dd>FALSE</dd></dl>\n"
      ],
      "text/latex": [
       "\\begin{description*}\n",
       "\\item[date\\textbackslash{}\\_time] FALSE\n",
       "\\item[site\\textbackslash{}\\_name] FALSE\n",
       "\\item[posa\\textbackslash{}\\_continent] FALSE\n",
       "\\item[user\\textbackslash{}\\_location\\textbackslash{}\\_country] FALSE\n",
       "\\item[user\\textbackslash{}\\_location\\textbackslash{}\\_region] FALSE\n",
       "\\item[user\\textbackslash{}\\_location\\textbackslash{}\\_city] FALSE\n",
       "\\item[orig\\textbackslash{}\\_destination\\textbackslash{}\\_distance] FALSE\n",
       "\\item[user\\textbackslash{}\\_id] FALSE\n",
       "\\item[is\\textbackslash{}\\_mobile] FALSE\n",
       "\\item[is\\textbackslash{}\\_package] FALSE\n",
       "\\item[channel] FALSE\n",
       "\\item[srch\\textbackslash{}\\_ci] FALSE\n",
       "\\item[srch\\textbackslash{}\\_co] FALSE\n",
       "\\item[srch\\textbackslash{}\\_adults\\textbackslash{}\\_cnt] FALSE\n",
       "\\item[srch\\textbackslash{}\\_children\\textbackslash{}\\_cnt] FALSE\n",
       "\\item[srch\\textbackslash{}\\_rm\\textbackslash{}\\_cnt] FALSE\n",
       "\\item[srch\\textbackslash{}\\_destination\\textbackslash{}\\_id] FALSE\n",
       "\\item[srch\\textbackslash{}\\_destination\\textbackslash{}\\_type\\textbackslash{}\\_id] FALSE\n",
       "\\item[is\\textbackslash{}\\_booking] FALSE\n",
       "\\item[cnt] FALSE\n",
       "\\item[hotel\\textbackslash{}\\_continent] FALSE\n",
       "\\item[hotel\\textbackslash{}\\_country] FALSE\n",
       "\\item[hotel\\textbackslash{}\\_market] FALSE\n",
       "\\item[hotel\\textbackslash{}\\_cluster] FALSE\n",
       "\\end{description*}\n"
      ],
      "text/markdown": [
       "date_time\n",
       ":   FALSEsite_name\n",
       ":   FALSEposa_continent\n",
       ":   FALSEuser_location_country\n",
       ":   FALSEuser_location_region\n",
       ":   FALSEuser_location_city\n",
       ":   FALSEorig_destination_distance\n",
       ":   FALSEuser_id\n",
       ":   FALSEis_mobile\n",
       ":   FALSEis_package\n",
       ":   FALSEchannel\n",
       ":   FALSEsrch_ci\n",
       ":   FALSEsrch_co\n",
       ":   FALSEsrch_adults_cnt\n",
       ":   FALSEsrch_children_cnt\n",
       ":   FALSEsrch_rm_cnt\n",
       ":   FALSEsrch_destination_id\n",
       ":   FALSEsrch_destination_type_id\n",
       ":   FALSEis_booking\n",
       ":   FALSEcnt\n",
       ":   FALSEhotel_continent\n",
       ":   FALSEhotel_country\n",
       ":   FALSEhotel_market\n",
       ":   FALSEhotel_cluster\n",
       ":   FALSE\n",
       "\n"
      ],
      "text/plain": [
       "                date_time                 site_name            posa_continent \n",
       "                    FALSE                     FALSE                     FALSE \n",
       "    user_location_country      user_location_region        user_location_city \n",
       "                    FALSE                     FALSE                     FALSE \n",
       "orig_destination_distance                   user_id                 is_mobile \n",
       "                    FALSE                     FALSE                     FALSE \n",
       "               is_package                   channel                   srch_ci \n",
       "                    FALSE                     FALSE                     FALSE \n",
       "                  srch_co           srch_adults_cnt         srch_children_cnt \n",
       "                    FALSE                     FALSE                     FALSE \n",
       "              srch_rm_cnt       srch_destination_id  srch_destination_type_id \n",
       "                    FALSE                     FALSE                     FALSE \n",
       "               is_booking                       cnt           hotel_continent \n",
       "                    FALSE                     FALSE                     FALSE \n",
       "            hotel_country              hotel_market             hotel_cluster \n",
       "                    FALSE                     FALSE                     FALSE "
      ]
     },
     "metadata": {},
     "output_type": "display_data"
    }
   ],
   "source": [
    "# Clean NA records\n",
    "train <- na.omit(train)\n",
    "apply(train, 2, function(x) any(is.na(x)))"
   ]
  },
  {
   "cell_type": "markdown",
   "metadata": {},
   "source": [
    "#### Formating Variables"
   ]
  },
  {
   "cell_type": "code",
   "execution_count": 17,
   "metadata": {},
   "outputs": [],
   "source": [
    "# Date Time\n",
    "train$date_time <- as.character(train$date_time) \n",
    "train$date_time <- substr(train$date_time,1,nchar(train$date_time)-12)\n",
    "\n",
    "train <- train %>%\n",
    "          tidyr::separate(date_time, c(\"date_year\", \"date_month\"))\n",
    "train$date_year <- as.integer(train$date_year) \n",
    "train$date_month <- as.integer(train$date_month)"
   ]
  },
  {
   "cell_type": "code",
   "execution_count": 18,
   "metadata": {},
   "outputs": [],
   "source": [
    "# Check in date\n",
    "train$srch_ci <- as.character(train$srch_ci) \n",
    "train$srch_ci <- substr(train$srch_ci,1,nchar(train$srch_ci)-3)\n",
    "suppressWarnings(train <- train %>%\n",
    "          tidyr::separate(srch_ci, c(\"CheckIn_year\", \"CheckIn_month\")))\n",
    "train$CheckIn_year <- as.integer(train$CheckIn_year) \n",
    "train$CheckIn_month <- as.integer(train$CheckIn_month)\n"
   ]
  },
  {
   "cell_type": "code",
   "execution_count": 19,
   "metadata": {},
   "outputs": [],
   "source": [
    "# check out date\n",
    "train$srch_co <- as.character(train$srch_co) \n",
    "train$srch_co <- substr(train$srch_co,1,nchar(train$srch_co)-3)\n",
    "suppressWarnings(train <- train %>%\n",
    "          tidyr::separate(srch_co, c(\"CheckOut_year\", \"CheckOut_month\")))\n",
    "train$CheckOut_year <- as.integer(train$CheckOut_year) \n",
    "train$CheckOut_month <- as.integer(train$CheckOut_month)"
   ]
  },
  {
   "cell_type": "code",
   "execution_count": 20,
   "metadata": {},
   "outputs": [],
   "source": [
    "# Orig_distance_distance\n",
    "train$orig_destination_distance <- as.integer(train$orig_destination_distance)"
   ]
  },
  {
   "cell_type": "markdown",
   "metadata": {},
   "source": [
    "### EDA"
   ]
  },
  {
   "cell_type": "code",
   "execution_count": 21,
   "metadata": {},
   "outputs": [],
   "source": [
    "train <- na.omit(train)\n",
    "hotel_clusters <- train$hotel_cluster"
   ]
  },
  {
   "cell_type": "code",
   "execution_count": 22,
   "metadata": {},
   "outputs": [
    {
     "name": "stdout",
     "output_type": "stream",
     "text": [
      "'data.frame':\t64169 obs. of  27 variables:\n",
      " $ date_year                : int  2013 2014 2014 2014 2014 2014 2013 2013 2014 2013 ...\n",
      " $ date_month               : int  11 10 10 3 10 3 5 5 5 11 ...\n",
      " $ site_name                : int  13 2 11 2 2 2 2 2 2 2 ...\n",
      " $ posa_continent           : int  1 3 3 3 3 3 3 3 3 3 ...\n",
      " $ user_location_country    : int  46 66 205 66 66 66 66 66 66 66 ...\n",
      " $ user_location_region     : int  171 348 354 311 153 356 363 258 348 254 ...\n",
      " $ user_location_city       : int  15334 48862 25315 31592 50542 33823 11295 4687 332 905 ...\n",
      " $ orig_destination_distance: int  860 307 1932 1714 1745 1012 251 712 142 1276 ...\n",
      " $ user_id                  : int  4539 6304 6450 7030 15632 18795 18841 21932 23232 36114 ...\n",
      " $ is_mobile                : int  0 0 0 0 1 0 0 0 0 0 ...\n",
      " $ is_package               : int  0 0 0 1 1 1 0 0 0 0 ...\n",
      " $ channel                  : int  9 3 5 0 2 1 9 9 9 4 ...\n",
      " $ CheckIn_year             : int  2013 2014 2015 2014 2014 2014 2013 2013 2014 2013 ...\n",
      " $ CheckIn_month            : int  12 10 3 5 10 3 5 5 5 12 ...\n",
      " $ CheckOut_year            : int  2013 2014 2015 2014 2014 2014 2013 2013 2014 2014 ...\n",
      " $ CheckOut_month           : int  12 10 3 5 10 3 5 5 5 1 ...\n",
      " $ srch_adults_cnt          : int  2 2 2 2 2 1 3 1 1 2 ...\n",
      " $ srch_children_cnt        : int  0 0 0 0 1 3 0 0 0 0 ...\n",
      " $ srch_rm_cnt              : int  1 1 1 1 2 1 1 1 1 1 ...\n",
      " $ srch_destination_id      : int  8255 11850 1442 8791 12439 8272 24946 45327 12233 12227 ...\n",
      " $ srch_destination_type_id : int  1 1 3 1 5 1 6 6 6 6 ...\n",
      " $ is_booking               : int  0 0 0 0 0 0 1 1 0 1 ...\n",
      " $ cnt                      : int  1 1 1 2 1 5 1 1 2 1 ...\n",
      " $ hotel_continent          : int  6 2 4 4 4 2 2 2 2 2 ...\n",
      " $ hotel_country            : int  77 198 125 8 8 50 50 50 50 50 ...\n",
      " $ hotel_market             : int  20 750 177 110 110 659 751 675 675 701 ...\n",
      " $ hotel_cluster            : int  15 4 58 65 54 84 51 56 72 40 ...\n",
      " - attr(*, \"na.action\")= 'omit' Named int  1466 2537 2613 3785 4160 4331 4460 4643 4828 6066 ...\n",
      "  ..- attr(*, \"names\")= chr  \"2334\" \"4058\" \"4180\" \"5938\" ...\n"
     ]
    }
   ],
   "source": [
    "str(train)"
   ]
  },
  {
   "cell_type": "code",
   "execution_count": 12,
   "metadata": {},
   "outputs": [
    {
     "data": {
      "text/plain": [
       "   date_year     date_month    site_name   posa_continent user_location_country\n",
       " Min.   : NA   Min.   : NA   Min.   : NA   Min.   : NA    Min.   : NA          \n",
       " 1st Qu.: NA   1st Qu.: NA   1st Qu.: NA   1st Qu.: NA    1st Qu.: NA          \n",
       " Median : NA   Median : NA   Median : NA   Median : NA    Median : NA          \n",
       " Mean   :NaN   Mean   :NaN   Mean   :NaN   Mean   :NaN    Mean   :NaN          \n",
       " 3rd Qu.: NA   3rd Qu.: NA   3rd Qu.: NA   3rd Qu.: NA    3rd Qu.: NA          \n",
       " Max.   : NA   Max.   : NA   Max.   : NA   Max.   : NA    Max.   : NA          \n",
       " user_location_region user_location_city orig_destination_distance\n",
       " Min.   : NA          Min.   : NA        Min.   : NA              \n",
       " 1st Qu.: NA          1st Qu.: NA        1st Qu.: NA              \n",
       " Median : NA          Median : NA        Median : NA              \n",
       " Mean   :NaN          Mean   :NaN        Mean   :NaN              \n",
       " 3rd Qu.: NA          3rd Qu.: NA        3rd Qu.: NA              \n",
       " Max.   : NA          Max.   : NA        Max.   : NA              \n",
       "    user_id      is_mobile     is_package     channel     CheckIn_year\n",
       " Min.   : NA   Min.   : NA   Min.   : NA   Min.   : NA   Min.   : NA  \n",
       " 1st Qu.: NA   1st Qu.: NA   1st Qu.: NA   1st Qu.: NA   1st Qu.: NA  \n",
       " Median : NA   Median : NA   Median : NA   Median : NA   Median : NA  \n",
       " Mean   :NaN   Mean   :NaN   Mean   :NaN   Mean   :NaN   Mean   :NaN  \n",
       " 3rd Qu.: NA   3rd Qu.: NA   3rd Qu.: NA   3rd Qu.: NA   3rd Qu.: NA  \n",
       " Max.   : NA   Max.   : NA   Max.   : NA   Max.   : NA   Max.   : NA  \n",
       " CheckIn_month CheckOut_year CheckOut_month srch_adults_cnt srch_children_cnt\n",
       " Min.   : NA   Min.   : NA   Min.   : NA    Min.   : NA     Min.   : NA      \n",
       " 1st Qu.: NA   1st Qu.: NA   1st Qu.: NA    1st Qu.: NA     1st Qu.: NA      \n",
       " Median : NA   Median : NA   Median : NA    Median : NA     Median : NA      \n",
       " Mean   :NaN   Mean   :NaN   Mean   :NaN    Mean   :NaN     Mean   :NaN      \n",
       " 3rd Qu.: NA   3rd Qu.: NA   3rd Qu.: NA    3rd Qu.: NA     3rd Qu.: NA      \n",
       " Max.   : NA   Max.   : NA   Max.   : NA    Max.   : NA     Max.   : NA      \n",
       "  srch_rm_cnt  srch_destination_id srch_destination_type_id   is_booking \n",
       " Min.   : NA   Min.   : NA         Min.   : NA              Min.   : NA  \n",
       " 1st Qu.: NA   1st Qu.: NA         1st Qu.: NA              1st Qu.: NA  \n",
       " Median : NA   Median : NA         Median : NA              Median : NA  \n",
       " Mean   :NaN   Mean   :NaN         Mean   :NaN              Mean   :NaN  \n",
       " 3rd Qu.: NA   3rd Qu.: NA         3rd Qu.: NA              3rd Qu.: NA  \n",
       " Max.   : NA   Max.   : NA         Max.   : NA              Max.   : NA  \n",
       "      cnt      hotel_continent hotel_country  hotel_market hotel_cluster\n",
       " Min.   : NA   Min.   : NA     Min.   : NA   Min.   : NA   Min.   : NA  \n",
       " 1st Qu.: NA   1st Qu.: NA     1st Qu.: NA   1st Qu.: NA   1st Qu.: NA  \n",
       " Median : NA   Median : NA     Median : NA   Median : NA   Median : NA  \n",
       " Mean   :NaN   Mean   :NaN     Mean   :NaN   Mean   :NaN   Mean   :NaN  \n",
       " 3rd Qu.: NA   3rd Qu.: NA     3rd Qu.: NA   3rd Qu.: NA   3rd Qu.: NA  \n",
       " Max.   : NA   Max.   : NA     Max.   : NA   Max.   : NA   Max.   : NA  "
      ]
     },
     "metadata": {},
     "output_type": "display_data"
    }
   ],
   "source": [
    "summary(train)"
   ]
  },
  {
   "cell_type": "code",
   "execution_count": 23,
   "metadata": {},
   "outputs": [
    {
     "data": {
      "image/png": "[encoded data removed]",
      "text/plain": [
       "Plot with title \"Histogram of hotel_clusters\""
      ]
     },
     "metadata": {},
     "output_type": "display_data"
    }
   ],
   "source": [
    "hist(hotel_clusters)"
   ]
  },
  {
   "cell_type": "code",
   "execution_count": 24,
   "metadata": {},
   "outputs": [
    {
     "data": {
      "text/html": [
       "<table>\n",
       "<caption>A matrix: 1 × 27 of type dbl</caption>\n",
       "<thead>\n",
       "\t<tr><th scope=col>date_year</th><th scope=col>date_month</th><th scope=col>site_name</th><th scope=col>posa_continent</th><th scope=col>user_location_country</th><th scope=col>user_location_region</th><th scope=col>user_location_city</th><th scope=col>orig_destination_distance</th><th scope=col>user_id</th><th scope=col>is_mobile</th><th scope=col>...</th><th scope=col>srch_children_cnt</th><th scope=col>srch_rm_cnt</th><th scope=col>srch_destination_id</th><th scope=col>srch_destination_type_id</th><th scope=col>is_booking</th><th scope=col>cnt</th><th scope=col>hotel_continent</th><th scope=col>hotel_country</th><th scope=col>hotel_market</th><th scope=col>hotel_cluster</th></tr>\n",
       "</thead>\n",
       "<tbody>\n",
       "\t<tr><td>0</td><td>0</td><td>-0.02</td><td>0</td><td>-0.02</td><td>0</td><td>-0.01</td><td>0.01</td><td>0</td><td>0.02</td><td>...</td><td>0.02</td><td>-0.01</td><td>-0.01</td><td>-0.03</td><td>-0.02</td><td>0</td><td>0</td><td>-0.02</td><td>0.02</td><td>1</td></tr>\n",
       "</tbody>\n",
       "</table>\n"
      ],
      "text/latex": [
       "A matrix: 1 × 27 of type dbl\n",
       "\\begin{tabular}{lllllllllllllllllllll}\n",
       " date\\_year & date\\_month & site\\_name & posa\\_continent & user\\_location\\_country & user\\_location\\_region & user\\_location\\_city & orig\\_destination\\_distance & user\\_id & is\\_mobile & ... & srch\\_children\\_cnt & srch\\_rm\\_cnt & srch\\_destination\\_id & srch\\_destination\\_type\\_id & is\\_booking & cnt & hotel\\_continent & hotel\\_country & hotel\\_market & hotel\\_cluster\\\\\n",
       "\\hline\n",
       "\t 0 & 0 & -0.02 & 0 & -0.02 & 0 & -0.01 & 0.01 & 0 & 0.02 & ... & 0.02 & -0.01 & -0.01 & -0.03 & -0.02 & 0 & 0 & -0.02 & 0.02 & 1\\\\\n",
       "\\end{tabular}\n"
      ],
      "text/markdown": [
       "\n",
       "A matrix: 1 × 27 of type dbl\n",
       "\n",
       "| date_year | date_month | site_name | posa_continent | user_location_country | user_location_region | user_location_city | orig_destination_distance | user_id | is_mobile | ... | srch_children_cnt | srch_rm_cnt | srch_destination_id | srch_destination_type_id | is_booking | cnt | hotel_continent | hotel_country | hotel_market | hotel_cluster |\n",
       "|---|---|---|---|---|---|---|---|---|---|---|---|---|---|---|---|---|---|---|---|---|\n",
       "| 0 | 0 | -0.02 | 0 | -0.02 | 0 | -0.01 | 0.01 | 0 | 0.02 | ... | 0.02 | -0.01 | -0.01 | -0.03 | -0.02 | 0 | 0 | -0.02 | 0.02 | 1 |\n",
       "\n"
      ],
      "text/plain": [
       "     date_year date_month site_name posa_continent user_location_country\n",
       "[1,] 0         0          -0.02     0              -0.02                \n",
       "     user_location_region user_location_city orig_destination_distance user_id\n",
       "[1,] 0                    -0.01              0.01                      0      \n",
       "     is_mobile ... srch_children_cnt srch_rm_cnt srch_destination_id\n",
       "[1,] 0.02      ... 0.02              -0.01       -0.01              \n",
       "     srch_destination_type_id is_booking cnt hotel_continent hotel_country\n",
       "[1,] -0.03                    -0.02      0   0               -0.02        \n",
       "     hotel_market hotel_cluster\n",
       "[1,] 0.02         1            "
      ]
     },
     "metadata": {},
     "output_type": "display_data"
    }
   ],
   "source": [
    "cor_test <- cor(train$hotel_cluster, train)\n",
    "round(cor_test, 2)"
   ]
  },
  {
   "cell_type": "code",
   "execution_count": 25,
   "metadata": {},
   "outputs": [],
   "source": [
    "# Merge the data sets into one ('train' and 'destinations')\n",
    "merged_hotel <- left_join(train, destinations, \n",
    "                          by = c(\"srch_destination_id\" = \"srch_destination_id\"))\n",
    "merged_hotel <- na.omit(merged_hotel)"
   ]
  },
  {
   "cell_type": "code",
   "execution_count": 26,
   "metadata": {},
   "outputs": [
    {
     "data": {
      "text/html": [
       "<table>\n",
       "<caption>A data.frame: 6 × 176</caption>\n",
       "<thead>\n",
       "\t<tr><th></th><th scope=col>date_year</th><th scope=col>date_month</th><th scope=col>site_name</th><th scope=col>posa_continent</th><th scope=col>user_location_country</th><th scope=col>user_location_region</th><th scope=col>user_location_city</th><th scope=col>orig_destination_distance</th><th scope=col>user_id</th><th scope=col>is_mobile</th><th scope=col>...</th><th scope=col>d140</th><th scope=col>d141</th><th scope=col>d142</th><th scope=col>d143</th><th scope=col>d144</th><th scope=col>d145</th><th scope=col>d146</th><th scope=col>d147</th><th scope=col>d148</th><th scope=col>d149</th></tr>\n",
       "\t<tr><th></th><th scope=col>&lt;int&gt;</th><th scope=col>&lt;int&gt;</th><th scope=col>&lt;int&gt;</th><th scope=col>&lt;int&gt;</th><th scope=col>&lt;int&gt;</th><th scope=col>&lt;int&gt;</th><th scope=col>&lt;int&gt;</th><th scope=col>&lt;int&gt;</th><th scope=col>&lt;int&gt;</th><th scope=col>&lt;int&gt;</th><th scope=col>...</th><th scope=col>&lt;dbl&gt;</th><th scope=col>&lt;dbl&gt;</th><th scope=col>&lt;dbl&gt;</th><th scope=col>&lt;dbl&gt;</th><th scope=col>&lt;dbl&gt;</th><th scope=col>&lt;dbl&gt;</th><th scope=col>&lt;dbl&gt;</th><th scope=col>&lt;dbl&gt;</th><th scope=col>&lt;dbl&gt;</th><th scope=col>&lt;dbl&gt;</th></tr>\n",
       "</thead>\n",
       "<tbody>\n",
       "\t<tr><th scope=row>1</th><td>2013</td><td>11</td><td>13</td><td>1</td><td> 46</td><td>171</td><td>15334</td><td> 860</td><td> 4539</td><td>0</td><td>...</td><td>-2.248868</td><td>-2.248860</td><td>-2.248868</td><td>-2.248868</td><td>-2.248868</td><td>-2.248868</td><td>-2.248868</td><td>-2.248868</td><td>-2.248868</td><td>-2.248868</td></tr>\n",
       "\t<tr><th scope=row>2</th><td>2014</td><td>10</td><td> 2</td><td>3</td><td> 66</td><td>348</td><td>48862</td><td> 307</td><td> 6304</td><td>0</td><td>...</td><td>-2.324091</td><td>-1.033870</td><td>-2.067160</td><td>-2.329195</td><td>-2.330481</td><td>-2.325361</td><td>-2.170019</td><td>-2.329680</td><td>-2.330481</td><td>-2.320629</td></tr>\n",
       "\t<tr><th scope=row>3</th><td>2014</td><td>10</td><td>11</td><td>3</td><td>205</td><td>354</td><td>25315</td><td>1932</td><td> 6450</td><td>0</td><td>...</td><td>-2.255405</td><td>-2.092796</td><td>-2.264705</td><td>-2.233834</td><td>-2.176576</td><td>-2.255405</td><td>-2.264705</td><td>-2.264705</td><td>-2.241351</td><td>-2.225888</td></tr>\n",
       "\t<tr><th scope=row>4</th><td>2014</td><td> 3</td><td> 2</td><td>3</td><td> 66</td><td>311</td><td>31592</td><td>1714</td><td> 7030</td><td>0</td><td>...</td><td>-2.316944</td><td>-2.367790</td><td>-2.326313</td><td>-2.346321</td><td>-2.375115</td><td>-2.302345</td><td>-2.371526</td><td>-2.350070</td><td>-2.354576</td><td>-2.374588</td></tr>\n",
       "\t<tr><th scope=row>5</th><td>2014</td><td>10</td><td> 2</td><td>3</td><td> 66</td><td>153</td><td>50542</td><td>1745</td><td>15632</td><td>1</td><td>...</td><td>-2.274066</td><td>-2.239870</td><td>-2.273973</td><td>-2.288024</td><td>-2.284417</td><td>-2.259007</td><td>-2.299027</td><td>-2.281004</td><td>-2.290302</td><td>-2.299609</td></tr>\n",
       "\t<tr><th scope=row>6</th><td>2014</td><td> 3</td><td> 2</td><td>3</td><td> 66</td><td>356</td><td>33823</td><td>1012</td><td>18795</td><td>0</td><td>...</td><td>-2.250440</td><td>-2.227043</td><td>-2.156036</td><td>-2.258465</td><td>-2.244187</td><td>-2.256733</td><td>-2.258193</td><td>-2.255866</td><td>-2.257384</td><td>-2.235050</td></tr>\n",
       "</tbody>\n",
       "</table>\n"
      ],
      "text/latex": [
       "A data.frame: 6 × 176\n",
       "\\begin{tabular}{r|lllllllllllllllllllll}\n",
       "  & date\\_year & date\\_month & site\\_name & posa\\_continent & user\\_location\\_country & user\\_location\\_region & user\\_location\\_city & orig\\_destination\\_distance & user\\_id & is\\_mobile & ... & d140 & d141 & d142 & d143 & d144 & d145 & d146 & d147 & d148 & d149\\\\\n",
       "  & <int> & <int> & <int> & <int> & <int> & <int> & <int> & <int> & <int> & <int> & ... & <dbl> & <dbl> & <dbl> & <dbl> & <dbl> & <dbl> & <dbl> & <dbl> & <dbl> & <dbl>\\\\\n",
       "\\hline\n",
       "\t1 & 2013 & 11 & 13 & 1 &  46 & 171 & 15334 &  860 &  4539 & 0 & ... & -2.248868 & -2.248860 & -2.248868 & -2.248868 & -2.248868 & -2.248868 & -2.248868 & -2.248868 & -2.248868 & -2.248868\\\\\n",
       "\t2 & 2014 & 10 &  2 & 3 &  66 & 348 & 48862 &  307 &  6304 & 0 & ... & -2.324091 & -1.033870 & -2.067160 & -2.329195 & -2.330481 & -2.325361 & -2.170019 & -2.329680 & -2.330481 & -2.320629\\\\\n",
       "\t3 & 2014 & 10 & 11 & 3 & 205 & 354 & 25315 & 1932 &  6450 & 0 & ... & -2.255405 & -2.092796 & -2.264705 & -2.233834 & -2.176576 & -2.255405 & -2.264705 & -2.264705 & -2.241351 & -2.225888\\\\\n",
       "\t4 & 2014 &  3 &  2 & 3 &  66 & 311 & 31592 & 1714 &  7030 & 0 & ... & -2.316944 & -2.367790 & -2.326313 & -2.346321 & -2.375115 & -2.302345 & -2.371526 & -2.350070 & -2.354576 & -2.374588\\\\\n",
       "\t5 & 2014 & 10 &  2 & 3 &  66 & 153 & 50542 & 1745 & 15632 & 1 & ... & -2.274066 & -2.239870 & -2.273973 & -2.288024 & -2.284417 & -2.259007 & -2.299027 & -2.281004 & -2.290302 & -2.299609\\\\\n",
       "\t6 & 2014 &  3 &  2 & 3 &  66 & 356 & 33823 & 1012 & 18795 & 0 & ... & -2.250440 & -2.227043 & -2.156036 & -2.258465 & -2.244187 & -2.256733 & -2.258193 & -2.255866 & -2.257384 & -2.235050\\\\\n",
       "\\end{tabular}\n"
      ],
      "text/markdown": [
       "\n",
       "A data.frame: 6 × 176\n",
       "\n",
       "| <!--/--> | date_year &lt;int&gt; | date_month &lt;int&gt; | site_name &lt;int&gt; | posa_continent &lt;int&gt; | user_location_country &lt;int&gt; | user_location_region &lt;int&gt; | user_location_city &lt;int&gt; | orig_destination_distance &lt;int&gt; | user_id &lt;int&gt; | is_mobile &lt;int&gt; | ... ... | d140 &lt;dbl&gt; | d141 &lt;dbl&gt; | d142 &lt;dbl&gt; | d143 &lt;dbl&gt; | d144 &lt;dbl&gt; | d145 &lt;dbl&gt; | d146 &lt;dbl&gt; | d147 &lt;dbl&gt; | d148 &lt;dbl&gt; | d149 &lt;dbl&gt; |\n",
       "|---|---|---|---|---|---|---|---|---|---|---|---|---|---|---|---|---|---|---|---|---|---|\n",
       "| 1 | 2013 | 11 | 13 | 1 |  46 | 171 | 15334 |  860 |  4539 | 0 | ... | -2.248868 | -2.248860 | -2.248868 | -2.248868 | -2.248868 | -2.248868 | -2.248868 | -2.248868 | -2.248868 | -2.248868 |\n",
       "| 2 | 2014 | 10 |  2 | 3 |  66 | 348 | 48862 |  307 |  6304 | 0 | ... | -2.324091 | -1.033870 | -2.067160 | -2.329195 | -2.330481 | -2.325361 | -2.170019 | -2.329680 | -2.330481 | -2.320629 |\n",
       "| 3 | 2014 | 10 | 11 | 3 | 205 | 354 | 25315 | 1932 |  6450 | 0 | ... | -2.255405 | -2.092796 | -2.264705 | -2.233834 | -2.176576 | -2.255405 | -2.264705 | -2.264705 | -2.241351 | -2.225888 |\n",
       "| 4 | 2014 |  3 |  2 | 3 |  66 | 311 | 31592 | 1714 |  7030 | 0 | ... | -2.316944 | -2.367790 | -2.326313 | -2.346321 | -2.375115 | -2.302345 | -2.371526 | -2.350070 | -2.354576 | -2.374588 |\n",
       "| 5 | 2014 | 10 |  2 | 3 |  66 | 153 | 50542 | 1745 | 15632 | 1 | ... | -2.274066 | -2.239870 | -2.273973 | -2.288024 | -2.284417 | -2.259007 | -2.299027 | -2.281004 | -2.290302 | -2.299609 |\n",
       "| 6 | 2014 |  3 |  2 | 3 |  66 | 356 | 33823 | 1012 | 18795 | 0 | ... | -2.250440 | -2.227043 | -2.156036 | -2.258465 | -2.244187 | -2.256733 | -2.258193 | -2.255866 | -2.257384 | -2.235050 |\n",
       "\n"
      ],
      "text/plain": [
       "  date_year date_month site_name posa_continent user_location_country\n",
       "1 2013      11         13        1               46                  \n",
       "2 2014      10          2        3               66                  \n",
       "3 2014      10         11        3              205                  \n",
       "4 2014       3          2        3               66                  \n",
       "5 2014      10          2        3               66                  \n",
       "6 2014       3          2        3               66                  \n",
       "  user_location_region user_location_city orig_destination_distance user_id\n",
       "1 171                  15334               860                       4539  \n",
       "2 348                  48862               307                       6304  \n",
       "3 354                  25315              1932                       6450  \n",
       "4 311                  31592              1714                       7030  \n",
       "5 153                  50542              1745                      15632  \n",
       "6 356                  33823              1012                      18795  \n",
       "  is_mobile ... d140      d141      d142      d143      d144      d145     \n",
       "1 0         ... -2.248868 -2.248860 -2.248868 -2.248868 -2.248868 -2.248868\n",
       "2 0         ... -2.324091 -1.033870 -2.067160 -2.329195 -2.330481 -2.325361\n",
       "3 0         ... -2.255405 -2.092796 -2.264705 -2.233834 -2.176576 -2.255405\n",
       "4 0         ... -2.316944 -2.367790 -2.326313 -2.346321 -2.375115 -2.302345\n",
       "5 1         ... -2.274066 -2.239870 -2.273973 -2.288024 -2.284417 -2.259007\n",
       "6 0         ... -2.250440 -2.227043 -2.156036 -2.258465 -2.244187 -2.256733\n",
       "  d146      d147      d148      d149     \n",
       "1 -2.248868 -2.248868 -2.248868 -2.248868\n",
       "2 -2.170019 -2.329680 -2.330481 -2.320629\n",
       "3 -2.264705 -2.264705 -2.241351 -2.225888\n",
       "4 -2.371526 -2.350070 -2.354576 -2.374588\n",
       "5 -2.299027 -2.281004 -2.290302 -2.299609\n",
       "6 -2.258193 -2.255866 -2.257384 -2.235050"
      ]
     },
     "metadata": {},
     "output_type": "display_data"
    }
   ],
   "source": [
    "head(merged_hotel)"
   ]
  },
  {
   "cell_type": "code",
   "execution_count": 27,
   "metadata": {},
   "outputs": [
    {
     "name": "stdout",
     "output_type": "stream",
     "text": [
      "'data.frame':\t63874 obs. of  176 variables:\n",
      " $ date_year                : int  2013 2014 2014 2014 2014 2014 2013 2013 2014 2013 ...\n",
      " $ date_month               : int  11 10 10 3 10 3 5 5 5 11 ...\n",
      " $ site_name                : int  13 2 11 2 2 2 2 2 2 2 ...\n",
      " $ posa_continent           : int  1 3 3 3 3 3 3 3 3 3 ...\n",
      " $ user_location_country    : int  46 66 205 66 66 66 66 66 66 66 ...\n",
      " $ user_location_region     : int  171 348 354 311 153 356 363 258 348 254 ...\n",
      " $ user_location_city       : int  15334 48862 25315 31592 50542 33823 11295 4687 332 905 ...\n",
      " $ orig_destination_distance: int  860 307 1932 1714 1745 1012 251 712 142 1276 ...\n",
      " $ user_id                  : int  4539 6304 6450 7030 15632 18795 18841 21932 23232 36114 ...\n",
      " $ is_mobile                : int  0 0 0 0 1 0 0 0 0 0 ...\n",
      " $ is_package               : int  0 0 0 1 1 1 0 0 0 0 ...\n",
      " $ channel                  : int  9 3 5 0 2 1 9 9 9 4 ...\n",
      " $ CheckIn_year             : int  2013 2014 2015 2014 2014 2014 2013 2013 2014 2013 ...\n",
      " $ CheckIn_month            : int  12 10 3 5 10 3 5 5 5 12 ...\n",
      " $ CheckOut_year            : int  2013 2014 2015 2014 2014 2014 2013 2013 2014 2014 ...\n",
      " $ CheckOut_month           : int  12 10 3 5 10 3 5 5 5 1 ...\n",
      " $ srch_adults_cnt          : int  2 2 2 2 2 1 3 1 1 2 ...\n",
      " $ srch_children_cnt        : int  0 0 0 0 1 3 0 0 0 0 ...\n",
      " $ srch_rm_cnt              : int  1 1 1 1 2 1 1 1 1 1 ...\n",
      " $ srch_destination_id      : int  8255 11850 1442 8791 12439 8272 24946 45327 12233 12227 ...\n",
      " $ srch_destination_type_id : int  1 1 3 1 5 1 6 6 6 6 ...\n",
      " $ is_booking               : int  0 0 0 0 0 0 1 1 0 1 ...\n",
      " $ cnt                      : int  1 1 1 2 1 5 1 1 2 1 ...\n",
      " $ hotel_continent          : int  6 2 4 4 4 2 2 2 2 2 ...\n",
      " $ hotel_country            : int  77 198 125 8 8 50 50 50 50 50 ...\n",
      " $ hotel_market             : int  20 750 177 110 110 659 751 675 675 701 ...\n",
      " $ hotel_cluster            : int  15 4 58 65 54 84 51 56 72 40 ...\n",
      " $ d1                       : num  -2.19 -2.22 -2.11 -2.27 -2.1 ...\n",
      " $ d2                       : num  -2.25 -2.27 -2.23 -2.34 -2.29 ...\n",
      " $ d3                       : num  -2.23 -2.33 -2.21 -2.37 -2.3 ...\n",
      " $ d4                       : num  -2.11 -2.32 -2.26 -2.36 -2.29 ...\n",
      " $ d5                       : num  -1.89 -2.22 -2.09 -2.35 -2.29 ...\n",
      " $ d6                       : num  -1.8 -2.08 -2.01 -1.67 -1.81 ...\n",
      " $ d7                       : num  -2.25 -2.33 -2.26 -2.37 -2.3 ...\n",
      " $ d8                       : num  -2.25 -2.33 -2.26 -2.37 -2.3 ...\n",
      " $ d9                       : num  -2.25 -2.31 -1.67 -1.2 -1.36 ...\n",
      " $ d10                      : num  -2.24 -2.26 -2.2 -2.24 -2.23 ...\n",
      " $ d11                      : num  -2.16 -2.2 -2.25 -2.31 -2.23 ...\n",
      " $ d12                      : num  -2.25 -2.33 -2.26 -2.38 -2.3 ...\n",
      " $ d13                      : num  -2.17 -2.14 -2.03 -2.2 -2.19 ...\n",
      " $ d14                      : num  -2.19 -1.97 -2.23 -2.15 -2.11 ...\n",
      " $ d15                      : num  -2.25 -2.33 -2.26 -2.38 -2.3 ...\n",
      " $ d16                      : num  -2.09 -2.15 -2.23 -2.24 -2.23 ...\n",
      " $ d17                      : num  -2.1 -2.27 -2.26 -2.31 -2.27 ...\n",
      " $ d18                      : num  -2.23 -2.32 -2.26 -2.37 -2.3 ...\n",
      " $ d19                      : num  -2.25 -2.33 -2.26 -2.37 -2.3 ...\n",
      " $ d20                      : num  -2.25 -1.67 -2.26 -2.37 -2.3 ...\n",
      " $ d21                      : num  -2.23 -2.33 -2.26 -2.37 -2.3 ...\n",
      " $ d22                      : num  -2.16 -2.33 -2.26 -2.38 -2.3 ...\n",
      " $ d23                      : num  -2.25 -2.33 -2.26 -2.37 -2.3 ...\n",
      " $ d24                      : num  -2.24 -2.31 -2.25 -2.35 -2.29 ...\n",
      " $ d25                      : num  -2.25 -2.33 -2.26 -2.38 -2.3 ...\n",
      " $ d26                      : num  -2.19 -2.31 -2.26 -2.34 -2.29 ...\n",
      " $ d27                      : num  -2.18 -2.31 -2.26 -2.38 -2.3 ...\n",
      " $ d28                      : num  -2.24 -2.32 -2.24 -2.32 -2.27 ...\n",
      " $ d29                      : num  -2.1 -1.96 -2.18 -2.2 -2.2 ...\n",
      " $ d30                      : num  -2.24 -2.29 -2.26 -2.37 -2.3 ...\n",
      " $ d31                      : num  -2.25 -2.33 -2.18 -2.37 -2.29 ...\n",
      " $ d32                      : num  -2.18 -2.32 -2.26 -2.37 -2.3 ...\n",
      " $ d33                      : num  -2.25 -2.32 -2.26 -2.38 -2.3 ...\n",
      " $ d34                      : num  -2.04 -2.33 -2.05 -2.33 -2.22 ...\n",
      " $ d35                      : num  -2.15 -2.3 -2.26 -2.21 -2.2 ...\n",
      " $ d36                      : num  -2.25 -2.33 -2.26 -2.37 -2.3 ...\n",
      " $ d37                      : num  -1.65 -1.48 -1.75 -1.33 -1.49 ...\n",
      " $ d38                      : num  -2.25 -2.33 -1.78 -2.25 -2.2 ...\n",
      " $ d39                      : num  -2.25 -2.33 -2.26 -2.29 -2.25 ...\n",
      " $ d40                      : num  -2.25 -2.31 -2.08 -2.37 -2.29 ...\n",
      " $ d41                      : num  -2.19 -2.19 -2.26 -1.86 -1.96 ...\n",
      " $ d42                      : num  -2.18 -2.32 -2.21 -2.22 -2.21 ...\n",
      " $ d43                      : num  -2.03 -1.74 -2.11 -1.78 -1.86 ...\n",
      " $ d44                      : num  -2.25 -2.33 -2.11 -2.28 -2.25 ...\n",
      " $ d45                      : num  -2.22 -2.29 -2.23 -2.37 -2.3 ...\n",
      " $ d46                      : num  -2.25 -2.32 -2.26 -2.3 -2.26 ...\n",
      " $ d47                      : num  -2.25 -2.33 -2.13 -2.34 -2.27 ...\n",
      " $ d48                      : num  -2.25 -2.32 -2.2 -2.35 -2.29 ...\n",
      " $ d49                      : num  -2.01 -1.83 -1.83 -1.18 -1.37 ...\n",
      " $ d50                      : num  -2.09 -2.33 -2.26 -2.37 -2.3 ...\n",
      " $ d51                      : num  -2.25 -2.33 -2.2 -2.35 -2.28 ...\n",
      " $ d52                      : num  -2.25 -2.31 -2.26 -2.32 -2.27 ...\n",
      " $ d53                      : num  -2.19 -2.16 -2.08 -2.24 -2.21 ...\n",
      " $ d54                      : num  -2.25 -2.33 -2.26 -2.37 -2.3 ...\n",
      " $ d55                      : num  -2.23 -2.17 -2.24 -2.19 -2.19 ...\n",
      " $ d56                      : num  -2.21 -2.21 -2.14 -2.36 -2.27 ...\n",
      " $ d57                      : num  -2.25 -2.25 -2.26 -2.38 -2.3 ...\n",
      " $ d58                      : num  -2.01 -2.15 -2.13 -2.3 -2.14 ...\n",
      " $ d59                      : num  -2.25 -2.3 -2.26 -2.37 -2.3 ...\n",
      " $ d60                      : num  -2.25 -2.33 -2.26 -2.38 -2.3 ...\n",
      " $ d61                      : num  -2.25 -2.31 -2.2 -2.37 -2.29 ...\n",
      " $ d62                      : num  -2.25 -2.33 -2.2 -2.38 -2.3 ...\n",
      " $ d63                      : num  -2.21 -2.33 -2.26 -2.37 -2.3 ...\n",
      " $ d64                      : num  -2.25 -2.33 -2.26 -2.38 -2.3 ...\n",
      " $ d65                      : num  -2.25 -2.33 -2.26 -2.38 -2.3 ...\n",
      " $ d66                      : num  -2.25 -2.29 -1.86 -2.21 -2.23 ...\n",
      " $ d67                      : num  -2.25 -2.33 -2.26 -2.37 -2.3 ...\n",
      " $ d68                      : num  -2.25 -2.33 -2.12 -2.32 -2.24 ...\n",
      " $ d69                      : num  -2.25 -2.32 -2.14 -2.31 -2.25 ...\n",
      " $ d70                      : num  -2.25 -2.33 -2.26 -2.38 -2.3 ...\n",
      " $ d71                      : num  -2.22 -2.16 -2.18 -2.37 -2.3 ...\n",
      " $ d72                      : num  -2.25 -2.33 -2.26 -2.37 -2.3 ...\n",
      "  [list output truncated]\n",
      " - attr(*, \"na.action\")= 'omit' Named int  120 310 576 765 1020 1391 1514 1857 2037 2268 ...\n",
      "  ..- attr(*, \"names\")= chr  \"120\" \"310\" \"576\" \"765\" ...\n"
     ]
    }
   ],
   "source": [
    "str(merged_hotel)"
   ]
  },
  {
   "cell_type": "code",
   "execution_count": 28,
   "metadata": {},
   "outputs": [],
   "source": [
    "# Export to CSV\n",
    "write.csv(merged_hotel,\"C:\\\\Users\\\\goura\\\\Desktop\\\\GARV ML\\\\DSC 630\\\\Merged_Prepared_Train.csv\")"
   ]
  },
  {
   "cell_type": "markdown",
   "metadata": {},
   "source": [
    "### Further refer Hotel_Recommendation_Python file"
   ]
  },
  {
   "cell_type": "code",
   "execution_count": null,
   "metadata": {},
   "outputs": [],
   "source": []
  }
 ],
 "metadata": {
  "kernelspec": {
   "display_name": "R",
   "language": "R",
   "name": "ir"
  },
  "language_info": {
   "codemirror_mode": "r",
   "file_extension": ".r",
   "mimetype": "text/x-r-source",
   "name": "R",
   "pygments_lexer": "r",
   "version": "3.6.1"
  }
 },
 "nbformat": 4,
 "nbformat_minor": 2
}
